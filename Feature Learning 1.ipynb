{
  "cells": [
    {
      "cell_type": "code",
      "source": [
        "import pandas as pd\n",
        "import numpy as np\n",
        "import tensorflow"
      ],
      "metadata": {
        "id": "9RnDICNYXbK7"
      },
      "execution_count": 11,
      "outputs": []
    },
    {
      "cell_type": "code",
      "source": [
        "df_amazon_updated = pd.read_csv(\"df_amazon_updated.csv\")\n",
        "df_flipkart = pd.read_csv(\"df_flipkart_NEW.csv\")"
      ],
      "metadata": {
        "id": "lDw22iFdXkBr"
      },
      "execution_count": 4,
      "outputs": []
    },
    {
      "cell_type": "code",
      "source": [
        "df_amazon_updated.head()"
      ],
      "metadata": {
        "colab": {
          "base_uri": "https://localhost:8080/",
          "height": 206
        },
        "id": "1ca7N9vlXkEx",
        "outputId": "b4be6c71-32a2-41ff-ec00-d0a986c48460"
      },
      "execution_count": 5,
      "outputs": [
        {
          "output_type": "execute_result",
          "data": {
            "text/plain": [
              "   Unnamed: 0                                               name  \\\n",
              "0           0  Scott International Men's Regular Fit T-Shirt ...   \n",
              "1           1                                   DAMENSCH T-Shirt   \n",
              "2           2        Amazon Brand - Symbol Men's Regular T-Shirt   \n",
              "3           3        Amazon Brand - Symbol Men's Regular T-Shirt   \n",
              "4           4  F GALLERY Printed Round Neck Half Sleeve T-Shi...   \n",
              "\n",
              "               rating   no_of_reviews  \\\n",
              "0  3.7 out of 5 stars  31,628 ratings   \n",
              "1  3.8 out of 5 stars     148 ratings   \n",
              "2  4.0 out of 5 stars  14,118 ratings   \n",
              "3  3.9 out of 5 stars     824 ratings   \n",
              "4  3.1 out of 5 stars      33 ratings   \n",
              "\n",
              "                                           img_links  \n",
              "0  https://m.media-amazon.com/images/I/71vp8Lec9J...  \n",
              "1  https://m.media-amazon.com/images/I/71LOO3vX61...  \n",
              "2  https://m.media-amazon.com/images/I/812qUiDzsx...  \n",
              "3  https://m.media-amazon.com/images/I/71lMWdtwZS...  \n",
              "4  https://m.media-amazon.com/images/I/51c6bj0gVZ...  "
            ],
            "text/html": [
              "\n",
              "  <div id=\"df-38ae31fd-c0f9-4e07-b655-4c3cb94a30db\">\n",
              "    <div class=\"colab-df-container\">\n",
              "      <div>\n",
              "<style scoped>\n",
              "    .dataframe tbody tr th:only-of-type {\n",
              "        vertical-align: middle;\n",
              "    }\n",
              "\n",
              "    .dataframe tbody tr th {\n",
              "        vertical-align: top;\n",
              "    }\n",
              "\n",
              "    .dataframe thead th {\n",
              "        text-align: right;\n",
              "    }\n",
              "</style>\n",
              "<table border=\"1\" class=\"dataframe\">\n",
              "  <thead>\n",
              "    <tr style=\"text-align: right;\">\n",
              "      <th></th>\n",
              "      <th>Unnamed: 0</th>\n",
              "      <th>name</th>\n",
              "      <th>rating</th>\n",
              "      <th>no_of_reviews</th>\n",
              "      <th>img_links</th>\n",
              "    </tr>\n",
              "  </thead>\n",
              "  <tbody>\n",
              "    <tr>\n",
              "      <th>0</th>\n",
              "      <td>0</td>\n",
              "      <td>Scott International Men's Regular Fit T-Shirt ...</td>\n",
              "      <td>3.7 out of 5 stars</td>\n",
              "      <td>31,628 ratings</td>\n",
              "      <td>https://m.media-amazon.com/images/I/71vp8Lec9J...</td>\n",
              "    </tr>\n",
              "    <tr>\n",
              "      <th>1</th>\n",
              "      <td>1</td>\n",
              "      <td>DAMENSCH T-Shirt</td>\n",
              "      <td>3.8 out of 5 stars</td>\n",
              "      <td>148 ratings</td>\n",
              "      <td>https://m.media-amazon.com/images/I/71LOO3vX61...</td>\n",
              "    </tr>\n",
              "    <tr>\n",
              "      <th>2</th>\n",
              "      <td>2</td>\n",
              "      <td>Amazon Brand - Symbol Men's Regular T-Shirt</td>\n",
              "      <td>4.0 out of 5 stars</td>\n",
              "      <td>14,118 ratings</td>\n",
              "      <td>https://m.media-amazon.com/images/I/812qUiDzsx...</td>\n",
              "    </tr>\n",
              "    <tr>\n",
              "      <th>3</th>\n",
              "      <td>3</td>\n",
              "      <td>Amazon Brand - Symbol Men's Regular T-Shirt</td>\n",
              "      <td>3.9 out of 5 stars</td>\n",
              "      <td>824 ratings</td>\n",
              "      <td>https://m.media-amazon.com/images/I/71lMWdtwZS...</td>\n",
              "    </tr>\n",
              "    <tr>\n",
              "      <th>4</th>\n",
              "      <td>4</td>\n",
              "      <td>F GALLERY Printed Round Neck Half Sleeve T-Shi...</td>\n",
              "      <td>3.1 out of 5 stars</td>\n",
              "      <td>33 ratings</td>\n",
              "      <td>https://m.media-amazon.com/images/I/51c6bj0gVZ...</td>\n",
              "    </tr>\n",
              "  </tbody>\n",
              "</table>\n",
              "</div>\n",
              "      <button class=\"colab-df-convert\" onclick=\"convertToInteractive('df-38ae31fd-c0f9-4e07-b655-4c3cb94a30db')\"\n",
              "              title=\"Convert this dataframe to an interactive table.\"\n",
              "              style=\"display:none;\">\n",
              "        \n",
              "  <svg xmlns=\"http://www.w3.org/2000/svg\" height=\"24px\"viewBox=\"0 0 24 24\"\n",
              "       width=\"24px\">\n",
              "    <path d=\"M0 0h24v24H0V0z\" fill=\"none\"/>\n",
              "    <path d=\"M18.56 5.44l.94 2.06.94-2.06 2.06-.94-2.06-.94-.94-2.06-.94 2.06-2.06.94zm-11 1L8.5 8.5l.94-2.06 2.06-.94-2.06-.94L8.5 2.5l-.94 2.06-2.06.94zm10 10l.94 2.06.94-2.06 2.06-.94-2.06-.94-.94-2.06-.94 2.06-2.06.94z\"/><path d=\"M17.41 7.96l-1.37-1.37c-.4-.4-.92-.59-1.43-.59-.52 0-1.04.2-1.43.59L10.3 9.45l-7.72 7.72c-.78.78-.78 2.05 0 2.83L4 21.41c.39.39.9.59 1.41.59.51 0 1.02-.2 1.41-.59l7.78-7.78 2.81-2.81c.8-.78.8-2.07 0-2.86zM5.41 20L4 18.59l7.72-7.72 1.47 1.35L5.41 20z\"/>\n",
              "  </svg>\n",
              "      </button>\n",
              "      \n",
              "  <style>\n",
              "    .colab-df-container {\n",
              "      display:flex;\n",
              "      flex-wrap:wrap;\n",
              "      gap: 12px;\n",
              "    }\n",
              "\n",
              "    .colab-df-convert {\n",
              "      background-color: #E8F0FE;\n",
              "      border: none;\n",
              "      border-radius: 50%;\n",
              "      cursor: pointer;\n",
              "      display: none;\n",
              "      fill: #1967D2;\n",
              "      height: 32px;\n",
              "      padding: 0 0 0 0;\n",
              "      width: 32px;\n",
              "    }\n",
              "\n",
              "    .colab-df-convert:hover {\n",
              "      background-color: #E2EBFA;\n",
              "      box-shadow: 0px 1px 2px rgba(60, 64, 67, 0.3), 0px 1px 3px 1px rgba(60, 64, 67, 0.15);\n",
              "      fill: #174EA6;\n",
              "    }\n",
              "\n",
              "    [theme=dark] .colab-df-convert {\n",
              "      background-color: #3B4455;\n",
              "      fill: #D2E3FC;\n",
              "    }\n",
              "\n",
              "    [theme=dark] .colab-df-convert:hover {\n",
              "      background-color: #434B5C;\n",
              "      box-shadow: 0px 1px 3px 1px rgba(0, 0, 0, 0.15);\n",
              "      filter: drop-shadow(0px 1px 2px rgba(0, 0, 0, 0.3));\n",
              "      fill: #FFFFFF;\n",
              "    }\n",
              "  </style>\n",
              "\n",
              "      <script>\n",
              "        const buttonEl =\n",
              "          document.querySelector('#df-38ae31fd-c0f9-4e07-b655-4c3cb94a30db button.colab-df-convert');\n",
              "        buttonEl.style.display =\n",
              "          google.colab.kernel.accessAllowed ? 'block' : 'none';\n",
              "\n",
              "        async function convertToInteractive(key) {\n",
              "          const element = document.querySelector('#df-38ae31fd-c0f9-4e07-b655-4c3cb94a30db');\n",
              "          const dataTable =\n",
              "            await google.colab.kernel.invokeFunction('convertToInteractive',\n",
              "                                                     [key], {});\n",
              "          if (!dataTable) return;\n",
              "\n",
              "          const docLinkHtml = 'Like what you see? Visit the ' +\n",
              "            '<a target=\"_blank\" href=https://colab.research.google.com/notebooks/data_table.ipynb>data table notebook</a>'\n",
              "            + ' to learn more about interactive tables.';\n",
              "          element.innerHTML = '';\n",
              "          dataTable['output_type'] = 'display_data';\n",
              "          await google.colab.output.renderOutput(dataTable, element);\n",
              "          const docLink = document.createElement('div');\n",
              "          docLink.innerHTML = docLinkHtml;\n",
              "          element.appendChild(docLink);\n",
              "        }\n",
              "      </script>\n",
              "    </div>\n",
              "  </div>\n",
              "  "
            ]
          },
          "metadata": {},
          "execution_count": 5
        }
      ]
    },
    {
      "cell_type": "code",
      "source": [
        "df_flipkart.head()"
      ],
      "metadata": {
        "colab": {
          "base_uri": "https://localhost:8080/",
          "height": 206
        },
        "id": "NiOIlBvfXkGE",
        "outputId": "44165a65-fcce-4a69-ffb6-cf7b6bbd7ace"
      },
      "execution_count": 7,
      "outputs": [
        {
          "output_type": "execute_result",
          "data": {
            "text/plain": [
              "   Unnamed: 0                                               name  rating  \\\n",
              "0           0     Color Block Men Hooded Neck Red, Black T-Shirt     4.0   \n",
              "1           1  Pack of 2 Striped Men Round Neck Black, Yellow...     3.7   \n",
              "2           2     Solid Men Mandarin Collar Brown, Black T-Shirt     3.9   \n",
              "3           3    Typography Men Hooded Neck Black, White T-Shirt     4.2   \n",
              "4           4  Pack of 2 Solid Men Henley Neck Maroon, Dark B...     3.7   \n",
              "\n",
              "  no_of_reviews                                          img_links  \n",
              "0      3,01,866  https://rukminim1.flixcart.com/image/714/857/k...  \n",
              "1         4,367  https://rukminim1.flixcart.com/image/714/857/l...  \n",
              "2        61,139  https://rukminim1.flixcart.com/image/714/857/k...  \n",
              "3         3,513  https://rukminim1.flixcart.com/image/714/857/l...  \n",
              "4         2,651  https://rukminim1.flixcart.com/image/714/857/k...  "
            ],
            "text/html": [
              "\n",
              "  <div id=\"df-8a14f783-19ab-464c-8e2e-19fd08ac0207\">\n",
              "    <div class=\"colab-df-container\">\n",
              "      <div>\n",
              "<style scoped>\n",
              "    .dataframe tbody tr th:only-of-type {\n",
              "        vertical-align: middle;\n",
              "    }\n",
              "\n",
              "    .dataframe tbody tr th {\n",
              "        vertical-align: top;\n",
              "    }\n",
              "\n",
              "    .dataframe thead th {\n",
              "        text-align: right;\n",
              "    }\n",
              "</style>\n",
              "<table border=\"1\" class=\"dataframe\">\n",
              "  <thead>\n",
              "    <tr style=\"text-align: right;\">\n",
              "      <th></th>\n",
              "      <th>Unnamed: 0</th>\n",
              "      <th>name</th>\n",
              "      <th>rating</th>\n",
              "      <th>no_of_reviews</th>\n",
              "      <th>img_links</th>\n",
              "    </tr>\n",
              "  </thead>\n",
              "  <tbody>\n",
              "    <tr>\n",
              "      <th>0</th>\n",
              "      <td>0</td>\n",
              "      <td>Color Block Men Hooded Neck Red, Black T-Shirt</td>\n",
              "      <td>4.0</td>\n",
              "      <td>3,01,866</td>\n",
              "      <td>https://rukminim1.flixcart.com/image/714/857/k...</td>\n",
              "    </tr>\n",
              "    <tr>\n",
              "      <th>1</th>\n",
              "      <td>1</td>\n",
              "      <td>Pack of 2 Striped Men Round Neck Black, Yellow...</td>\n",
              "      <td>3.7</td>\n",
              "      <td>4,367</td>\n",
              "      <td>https://rukminim1.flixcart.com/image/714/857/l...</td>\n",
              "    </tr>\n",
              "    <tr>\n",
              "      <th>2</th>\n",
              "      <td>2</td>\n",
              "      <td>Solid Men Mandarin Collar Brown, Black T-Shirt</td>\n",
              "      <td>3.9</td>\n",
              "      <td>61,139</td>\n",
              "      <td>https://rukminim1.flixcart.com/image/714/857/k...</td>\n",
              "    </tr>\n",
              "    <tr>\n",
              "      <th>3</th>\n",
              "      <td>3</td>\n",
              "      <td>Typography Men Hooded Neck Black, White T-Shirt</td>\n",
              "      <td>4.2</td>\n",
              "      <td>3,513</td>\n",
              "      <td>https://rukminim1.flixcart.com/image/714/857/l...</td>\n",
              "    </tr>\n",
              "    <tr>\n",
              "      <th>4</th>\n",
              "      <td>4</td>\n",
              "      <td>Pack of 2 Solid Men Henley Neck Maroon, Dark B...</td>\n",
              "      <td>3.7</td>\n",
              "      <td>2,651</td>\n",
              "      <td>https://rukminim1.flixcart.com/image/714/857/k...</td>\n",
              "    </tr>\n",
              "  </tbody>\n",
              "</table>\n",
              "</div>\n",
              "      <button class=\"colab-df-convert\" onclick=\"convertToInteractive('df-8a14f783-19ab-464c-8e2e-19fd08ac0207')\"\n",
              "              title=\"Convert this dataframe to an interactive table.\"\n",
              "              style=\"display:none;\">\n",
              "        \n",
              "  <svg xmlns=\"http://www.w3.org/2000/svg\" height=\"24px\"viewBox=\"0 0 24 24\"\n",
              "       width=\"24px\">\n",
              "    <path d=\"M0 0h24v24H0V0z\" fill=\"none\"/>\n",
              "    <path d=\"M18.56 5.44l.94 2.06.94-2.06 2.06-.94-2.06-.94-.94-2.06-.94 2.06-2.06.94zm-11 1L8.5 8.5l.94-2.06 2.06-.94-2.06-.94L8.5 2.5l-.94 2.06-2.06.94zm10 10l.94 2.06.94-2.06 2.06-.94-2.06-.94-.94-2.06-.94 2.06-2.06.94z\"/><path d=\"M17.41 7.96l-1.37-1.37c-.4-.4-.92-.59-1.43-.59-.52 0-1.04.2-1.43.59L10.3 9.45l-7.72 7.72c-.78.78-.78 2.05 0 2.83L4 21.41c.39.39.9.59 1.41.59.51 0 1.02-.2 1.41-.59l7.78-7.78 2.81-2.81c.8-.78.8-2.07 0-2.86zM5.41 20L4 18.59l7.72-7.72 1.47 1.35L5.41 20z\"/>\n",
              "  </svg>\n",
              "      </button>\n",
              "      \n",
              "  <style>\n",
              "    .colab-df-container {\n",
              "      display:flex;\n",
              "      flex-wrap:wrap;\n",
              "      gap: 12px;\n",
              "    }\n",
              "\n",
              "    .colab-df-convert {\n",
              "      background-color: #E8F0FE;\n",
              "      border: none;\n",
              "      border-radius: 50%;\n",
              "      cursor: pointer;\n",
              "      display: none;\n",
              "      fill: #1967D2;\n",
              "      height: 32px;\n",
              "      padding: 0 0 0 0;\n",
              "      width: 32px;\n",
              "    }\n",
              "\n",
              "    .colab-df-convert:hover {\n",
              "      background-color: #E2EBFA;\n",
              "      box-shadow: 0px 1px 2px rgba(60, 64, 67, 0.3), 0px 1px 3px 1px rgba(60, 64, 67, 0.15);\n",
              "      fill: #174EA6;\n",
              "    }\n",
              "\n",
              "    [theme=dark] .colab-df-convert {\n",
              "      background-color: #3B4455;\n",
              "      fill: #D2E3FC;\n",
              "    }\n",
              "\n",
              "    [theme=dark] .colab-df-convert:hover {\n",
              "      background-color: #434B5C;\n",
              "      box-shadow: 0px 1px 3px 1px rgba(0, 0, 0, 0.15);\n",
              "      filter: drop-shadow(0px 1px 2px rgba(0, 0, 0, 0.3));\n",
              "      fill: #FFFFFF;\n",
              "    }\n",
              "  </style>\n",
              "\n",
              "      <script>\n",
              "        const buttonEl =\n",
              "          document.querySelector('#df-8a14f783-19ab-464c-8e2e-19fd08ac0207 button.colab-df-convert');\n",
              "        buttonEl.style.display =\n",
              "          google.colab.kernel.accessAllowed ? 'block' : 'none';\n",
              "\n",
              "        async function convertToInteractive(key) {\n",
              "          const element = document.querySelector('#df-8a14f783-19ab-464c-8e2e-19fd08ac0207');\n",
              "          const dataTable =\n",
              "            await google.colab.kernel.invokeFunction('convertToInteractive',\n",
              "                                                     [key], {});\n",
              "          if (!dataTable) return;\n",
              "\n",
              "          const docLinkHtml = 'Like what you see? Visit the ' +\n",
              "            '<a target=\"_blank\" href=https://colab.research.google.com/notebooks/data_table.ipynb>data table notebook</a>'\n",
              "            + ' to learn more about interactive tables.';\n",
              "          element.innerHTML = '';\n",
              "          dataTable['output_type'] = 'display_data';\n",
              "          await google.colab.output.renderOutput(dataTable, element);\n",
              "          const docLink = document.createElement('div');\n",
              "          docLink.innerHTML = docLinkHtml;\n",
              "          element.appendChild(docLink);\n",
              "        }\n",
              "      </script>\n",
              "    </div>\n",
              "  </div>\n",
              "  "
            ]
          },
          "metadata": {},
          "execution_count": 7
        }
      ]
    },
    {
      "cell_type": "code",
      "source": [
        "df_images = df_amazon_updated[\"img_links\"]"
      ],
      "metadata": {
        "id": "b29v_3VcXkIG"
      },
      "execution_count": 9,
      "outputs": []
    },
    {
      "cell_type": "code",
      "source": [
        "df_images[0]"
      ],
      "metadata": {
        "colab": {
          "base_uri": "https://localhost:8080/",
          "height": 36
        },
        "id": "_s7iGejsXbQC",
        "outputId": "4f50f057-766f-4aec-db9e-0f7684f59539"
      },
      "execution_count": 10,
      "outputs": [
        {
          "output_type": "execute_result",
          "data": {
            "text/plain": [
              "'https://m.media-amazon.com/images/I/71vp8Lec9JL._UX522_.jpg'"
            ],
            "application/vnd.google.colaboratory.intrinsic+json": {
              "type": "string"
            }
          },
          "metadata": {},
          "execution_count": 10
        }
      ]
    },
    {
      "cell_type": "code",
      "source": [
        "import numpy as np\n",
        "import matplotlib.pyplot as plt\n",
        "\n",
        "from keras.layers import Input, Dense, Conv2D, MaxPooling2D, UpSampling2D, Flatten\n",
        "from keras.models import Model\n",
        "from keras import backend as K\n",
        "import tensorflow.keras.layers\n",
        "import keras\n",
        "\n",
        "input_img = Input(shape=(320, 192, 3))\n",
        "\n",
        "x = Conv2D(64, (3, 3), activation='relu', padding='same')(input_img)\n",
        "x = MaxPooling2D((2, 2), padding='same')(x)\n",
        "x = Conv2D(32, (3, 3), activation='relu', padding='same')(x)\n",
        "x = MaxPooling2D((2, 2), padding='same')(x)\n",
        "x = Conv2D(16, (3, 3), activation='relu', padding='same')(x)\n",
        "x = Conv2D(8, (3, 3), activation='relu', padding='same')(x)\n",
        "x = Conv2D(8, (3, 3), activation='relu', padding='same')(x)\n",
        "x = MaxPooling2D((2, 2), padding='same')(x)\n",
        "x = Conv2D(8, (3, 3), activation='relu', padding='same')(x)\n",
        "x = Conv2D(8, (3, 3), activation='relu', padding='same')(x)\n",
        "x = Conv2D(8, (3, 3), activation='relu', padding='same')(x)\n",
        "encoded = MaxPooling2D((2, 2), padding='same')(x)\n",
        "\n",
        "x = Conv2D(8, (3, 3), activation='relu', padding='same')(encoded)\n",
        "x = Conv2D(8, (3, 3), activation='relu', padding='same')(x)\n",
        "x = Conv2D(8, (3, 3), activation='relu', padding='same')(x)\n",
        "x = UpSampling2D((2, 2))(x)\n",
        "x = Conv2D(8, (3, 3), activation='relu', padding='same')(x)\n",
        "x = Conv2D(8, (3, 3), activation='relu', padding='same')(x)\n",
        "x = Conv2D(16, (3, 3), activation='relu', padding='same')(x)\n",
        "x = UpSampling2D((2, 2))(x)\n",
        "x = Conv2D(32, (3, 3), activation='relu', padding='same')(x)\n",
        "x = UpSampling2D((2, 2))(x)\n",
        "x = Conv2D(64, (3, 3), activation='relu', padding='same')(x)\n",
        "x = UpSampling2D((2, 2))(x)\n",
        "decoded = Conv2D(3, (3, 3), activation='sigmoid', padding='same')(x)\n",
        "\n",
        "autoencoder = Model(input_img, decoded)\n",
        "\n",
        "optimizer = keras.optimizers.Adam(lr=0.001)\n",
        "autoencoder.compile(optimizer=optimizer, loss='binary_crossentropy')\n",
        "\n",
        "import zipfile\n",
        "\n",
        "zip_ref = zipfile.ZipFile(\"Zipped_final.zip\", 'r')\n",
        "zip_ref.extractall(\"/tmp\")\n",
        "zip_ref.close()\n",
        "\n",
        "from skimage.io import imread_collection\n",
        "\n",
        "col_dir = '/tmp/Zipped/Amazon Images/*.jpg'\n",
        "col_amazon = imread_collection(col_dir)\n",
        "col_amazon = list(col_amazon)\n",
        "\n",
        "from skimage.transform import resize\n",
        "\n",
        "for i in range(len(col_amazon)):\n",
        "    col_amazon[i] = resize(col_amazon[i], (320, 192, 3))\n",
        "\n",
        "col_dir = '/tmp/Zipped/Flipkart Images/*.jpg'\n",
        "col_fk = imread_collection(col_dir)\n",
        "col_fk = list(col_fk)\n",
        "\n",
        "for i in range(len(col_fk)):\n",
        "    col_fk[i] = resize(col_fk[i], (320, 192, 3))\n",
        "\n",
        "col_dir = '/tmp/Zipped/Myntra Images/*.jpg'\n",
        "col_myntra = imread_collection(col_dir)\n",
        "col_myntra = list(col_myntra)\n",
        "\n",
        "for i in range(len(col_myntra)):\n",
        "    col_myntra[i] = resize(col_myntra[i], (320, 192, 3))\n",
        "\n",
        "col_dir = '/tmp/Zipped/Pinterest Men Images/*.jpg'\n",
        "col_pinmen = imread_collection(col_dir)\n",
        "col_pinmen = list(col_pinmen)\n",
        "\n",
        "for i in range(len(col_pinmen)):\n",
        "    col_pinmen[i] = resize(col_pinmen[i], (320, 192, 3))\n",
        "\n",
        "col_dir = '/tmp/Zipped/Pinterest Women Images/*.jpg'\n",
        "col_pinwom = imread_collection(col_dir)\n",
        "col_pinwom = list(col_pinwom)\n",
        "\n",
        "for i in range(len(col_pinwom)):\n",
        "    col_pinwom[i] = resize(col_pinwom[i], (320, 192, 3))\n",
        "\n",
        "col_clothes = col_amazon+col_fk+col_pinmen+col_myntra+col_pinwom\n",
        "\n",
        "x_train = np.array(col_clothes[0:3000])\n",
        "x_test = np.array(col_clothes[3000:])\n",
        "x_train = x_train.astype('float32')\n",
        "x_test = x_test.astype('float32')\n",
        "\n",
        "autoencoder.fit(x_train, x_train,\n",
        "                epochs=50,\n",
        "                batch_size=32,\n",
        "                validation_data=(x_test, x_test))\n",
        "\n",
        "encoder = Model(input_img, encoded)\n",
        "encoder.save(\"encoder\") "
      ],
      "metadata": {
        "id": "e-Ih6PT1XbRa"
      },
      "execution_count": null,
      "outputs": []
    },
    {
      "cell_type": "code",
      "source": [
        ""
      ],
      "metadata": {
        "id": "yBxt869AXbS0"
      },
      "execution_count": null,
      "outputs": []
    },
    {
      "cell_type": "code",
      "source": [
        ""
      ],
      "metadata": {
        "id": "z_tFMYzvXbUJ"
      },
      "execution_count": null,
      "outputs": []
    },
    {
      "cell_type": "code",
      "source": [
        ""
      ],
      "metadata": {
        "id": "8QVwpdBdXbWW"
      },
      "execution_count": null,
      "outputs": []
    },
    {
      "cell_type": "code",
      "source": [
        ""
      ],
      "metadata": {
        "id": "vvEGWaTkXbX9"
      },
      "execution_count": null,
      "outputs": []
    },
    {
      "cell_type": "code",
      "source": [
        ""
      ],
      "metadata": {
        "id": "cuM1s4MVXbZz"
      },
      "execution_count": null,
      "outputs": []
    },
    {
      "cell_type": "code",
      "source": [
        ""
      ],
      "metadata": {
        "id": "1v5fmxfuXbb0"
      },
      "execution_count": null,
      "outputs": []
    },
    {
      "cell_type": "code",
      "source": [
        ""
      ],
      "metadata": {
        "id": "tFGnRNMWXbft"
      },
      "execution_count": null,
      "outputs": []
    },
    {
      "cell_type": "code",
      "source": [
        ""
      ],
      "metadata": {
        "id": "Y1N-YZWbXbiG"
      },
      "execution_count": null,
      "outputs": []
    },
    {
      "cell_type": "code",
      "source": [
        ""
      ],
      "metadata": {
        "id": "eQSjeFtkXbkU"
      },
      "execution_count": null,
      "outputs": []
    },
    {
      "cell_type": "code",
      "source": [
        ""
      ],
      "metadata": {
        "id": "8SsUa_EcXbmW"
      },
      "execution_count": null,
      "outputs": []
    }
  ],
  "metadata": {
    "colab": {
      "collapsed_sections": [],
      "name": "Welcome To Colaboratory",
      "provenance": []
    },
    "kernelspec": {
      "display_name": "Python 3",
      "name": "python3"
    }
  },
  "nbformat": 4,
  "nbformat_minor": 0
}